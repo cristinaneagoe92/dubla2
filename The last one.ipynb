{
    "nbformat_minor": 1, 
    "cells": [
        {
            "source": "My last project is about helping my friend with a visit in San Francisco.", 
            "cell_type": "markdown", 
            "metadata": {
                "collapsed": true
            }
        }, 
        {
            "source": "One of my friends wants to visit San Francisco and he wants to know what is around within half of mile.He would like to see where he can fiind coffe shops and also a place to walk his dog.I will take all the data from wikipedia and I will be put it in a dataframe.", 
            "cell_type": "markdown", 
            "metadata": {}
        }, 
        {
            "source": "\nI will create a map where I will show all the places that match his criterias.On the mapp he would fiind markers with list of the venues.\n\n\n", 
            "cell_type": "markdown", 
            "metadata": {}
        }, 
        {
            "source": "I will use the data that is taken from wikipedia:\nhttps://en.wikipedia.org/wiki/List_of_neighborhoods_in_San_Francisco\nI will be using Foursquare API to data from a certain area and the venues from the location.\nI will use geopy library from Python to get the latitunde and longitudine.\n", 
            "cell_type": "markdown", 
            "metadata": {}
        }, 
        {
            "execution_count": null, 
            "cell_type": "code", 
            "metadata": {}, 
            "outputs": [], 
            "source": "\n"
        }, 
        {
            "execution_count": null, 
            "cell_type": "code", 
            "metadata": {}, 
            "outputs": [], 
            "source": "\n"
        }, 
        {
            "execution_count": null, 
            "cell_type": "code", 
            "metadata": {}, 
            "outputs": [], 
            "source": ""
        }, 
        {
            "execution_count": null, 
            "cell_type": "code", 
            "metadata": {}, 
            "outputs": [], 
            "source": ""
        }, 
        {
            "execution_count": null, 
            "cell_type": "code", 
            "metadata": {}, 
            "outputs": [], 
            "source": ""
        }
    ], 
    "metadata": {
        "kernelspec": {
            "display_name": "Python 3.5", 
            "name": "python3", 
            "language": "python"
        }, 
        "language_info": {
            "mimetype": "text/x-python", 
            "nbconvert_exporter": "python", 
            "version": "3.5.5", 
            "name": "python", 
            "file_extension": ".py", 
            "pygments_lexer": "ipython3", 
            "codemirror_mode": {
                "version": 3, 
                "name": "ipython"
            }
        }
    }, 
    "nbformat": 4
}